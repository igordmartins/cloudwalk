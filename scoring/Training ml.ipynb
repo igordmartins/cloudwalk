{
 "cells": [
  {
   "cell_type": "code",
   "execution_count": 296,
   "id": "f4a1d641",
   "metadata": {},
   "outputs": [],
   "source": [
    "import pandas as pd\n",
    "import numpy as np\n",
    "from sklearn.model_selection import  train_test_split\n",
    "from sklearn.linear_model import LogisticRegression\n",
    "from sklearn.metrics import accuracy_score, recall_score\n",
    "import pickle\n"
   ]
  },
  {
   "cell_type": "code",
   "execution_count": 297,
   "id": "73b1c7eb",
   "metadata": {},
   "outputs": [],
   "source": [
    "df_transactions = pd.read_csv('transactional-sample.csv')"
   ]
  },
  {
   "cell_type": "code",
   "execution_count": 298,
   "id": "734a96ff",
   "metadata": {},
   "outputs": [],
   "source": [
    "df_transactions['bin'] = df_transactions['card_number'].astype(str).str[0:6]\n"
   ]
  },
  {
   "cell_type": "code",
   "execution_count": 299,
   "id": "c13f003b",
   "metadata": {},
   "outputs": [],
   "source": [
    "df_transactions['last_digits'] = df_transactions['card_number'].astype(str).str[12:]"
   ]
  },
  {
   "cell_type": "code",
   "execution_count": 300,
   "id": "d7669729",
   "metadata": {
    "scrolled": false
   },
   "outputs": [
    {
     "data": {
      "text/html": [
       "<div>\n",
       "<style scoped>\n",
       "    .dataframe tbody tr th:only-of-type {\n",
       "        vertical-align: middle;\n",
       "    }\n",
       "\n",
       "    .dataframe tbody tr th {\n",
       "        vertical-align: top;\n",
       "    }\n",
       "\n",
       "    .dataframe thead th {\n",
       "        text-align: right;\n",
       "    }\n",
       "</style>\n",
       "<table border=\"1\" class=\"dataframe\">\n",
       "  <thead>\n",
       "    <tr style=\"text-align: right;\">\n",
       "      <th></th>\n",
       "      <th>transaction_id</th>\n",
       "      <th>merchant_id</th>\n",
       "      <th>user_id</th>\n",
       "      <th>card_number</th>\n",
       "      <th>transaction_date</th>\n",
       "      <th>transaction_amount</th>\n",
       "      <th>device_id</th>\n",
       "      <th>has_cbk</th>\n",
       "      <th>bin</th>\n",
       "      <th>last_digits</th>\n",
       "    </tr>\n",
       "  </thead>\n",
       "  <tbody>\n",
       "    <tr>\n",
       "      <th>0</th>\n",
       "      <td>21320398</td>\n",
       "      <td>29744</td>\n",
       "      <td>97051</td>\n",
       "      <td>434505******9116</td>\n",
       "      <td>2019-12-01T23:16:32.812632</td>\n",
       "      <td>374.56</td>\n",
       "      <td>285475.0</td>\n",
       "      <td>False</td>\n",
       "      <td>434505</td>\n",
       "      <td>9116</td>\n",
       "    </tr>\n",
       "    <tr>\n",
       "      <th>1</th>\n",
       "      <td>21320399</td>\n",
       "      <td>92895</td>\n",
       "      <td>2708</td>\n",
       "      <td>444456******4210</td>\n",
       "      <td>2019-12-01T22:45:37.873639</td>\n",
       "      <td>734.87</td>\n",
       "      <td>497105.0</td>\n",
       "      <td>True</td>\n",
       "      <td>444456</td>\n",
       "      <td>4210</td>\n",
       "    </tr>\n",
       "    <tr>\n",
       "      <th>2</th>\n",
       "      <td>21320400</td>\n",
       "      <td>47759</td>\n",
       "      <td>14777</td>\n",
       "      <td>425850******7024</td>\n",
       "      <td>2019-12-01T22:22:43.021495</td>\n",
       "      <td>760.36</td>\n",
       "      <td>NaN</td>\n",
       "      <td>False</td>\n",
       "      <td>425850</td>\n",
       "      <td>7024</td>\n",
       "    </tr>\n",
       "    <tr>\n",
       "      <th>3</th>\n",
       "      <td>21320401</td>\n",
       "      <td>68657</td>\n",
       "      <td>69758</td>\n",
       "      <td>464296******3991</td>\n",
       "      <td>2019-12-01T21:59:19.797129</td>\n",
       "      <td>2556.13</td>\n",
       "      <td>NaN</td>\n",
       "      <td>True</td>\n",
       "      <td>464296</td>\n",
       "      <td>3991</td>\n",
       "    </tr>\n",
       "    <tr>\n",
       "      <th>4</th>\n",
       "      <td>21320402</td>\n",
       "      <td>54075</td>\n",
       "      <td>64367</td>\n",
       "      <td>650487******6116</td>\n",
       "      <td>2019-12-01T21:30:53.347051</td>\n",
       "      <td>55.36</td>\n",
       "      <td>860232.0</td>\n",
       "      <td>False</td>\n",
       "      <td>650487</td>\n",
       "      <td>6116</td>\n",
       "    </tr>\n",
       "  </tbody>\n",
       "</table>\n",
       "</div>"
      ],
      "text/plain": [
       "   transaction_id  merchant_id  user_id       card_number  \\\n",
       "0        21320398        29744    97051  434505******9116   \n",
       "1        21320399        92895     2708  444456******4210   \n",
       "2        21320400        47759    14777  425850******7024   \n",
       "3        21320401        68657    69758  464296******3991   \n",
       "4        21320402        54075    64367  650487******6116   \n",
       "\n",
       "             transaction_date  transaction_amount  device_id  has_cbk     bin  \\\n",
       "0  2019-12-01T23:16:32.812632              374.56   285475.0    False  434505   \n",
       "1  2019-12-01T22:45:37.873639              734.87   497105.0     True  444456   \n",
       "2  2019-12-01T22:22:43.021495              760.36        NaN    False  425850   \n",
       "3  2019-12-01T21:59:19.797129             2556.13        NaN     True  464296   \n",
       "4  2019-12-01T21:30:53.347051               55.36   860232.0    False  650487   \n",
       "\n",
       "  last_digits  \n",
       "0        9116  \n",
       "1        4210  \n",
       "2        7024  \n",
       "3        3991  \n",
       "4        6116  "
      ]
     },
     "execution_count": 300,
     "metadata": {},
     "output_type": "execute_result"
    }
   ],
   "source": [
    "df_transactions.head()"
   ]
  },
  {
   "cell_type": "code",
   "execution_count": 301,
   "id": "9c0fb479",
   "metadata": {},
   "outputs": [],
   "source": [
    "df_transactions['transaction_amount'] = df_transactions['transaction_amount'].fillna(0)\n",
    "df_transactions['device_id'] = df_transactions['device_id'].fillna('0')\n",
    "# df_transactions['merchant_id'] = df_transactions['merchant_id'].fillna('0')\n",
    "# df_transactions['user_id'] = df_transactions['user_id'].fillna('0')"
   ]
  },
  {
   "cell_type": "code",
   "execution_count": 302,
   "id": "379849ff",
   "metadata": {},
   "outputs": [],
   "source": [
    "df_transactions['user_id'] = df_transactions['user_id'].astype(str)\n",
    "df_transactions['merchant_id'] = df_transactions['merchant_id'].astype(str)\n",
    "df_transactions['transaction_id'] = df_transactions['transaction_id'].astype(str)\n",
    "df_transactions['device_id'] = df_transactions['device_id'].astype(str)\n",
    "df_transactions['transaction_date'] = pd.to_datetime(df_transactions['transaction_date'])"
   ]
  },
  {
   "cell_type": "code",
   "execution_count": 303,
   "id": "234a8e22",
   "metadata": {},
   "outputs": [],
   "source": [
    "df_transactions['day'] = df_transactions['transaction_date'].apply(lambda r:r.day)\n",
    "df_transactions['hour'] = df_transactions['transaction_date'].apply(lambda r:r.hour)\n",
    "df_transactions['minute'] = df_transactions['transaction_date'].apply(lambda r:r.minute)"
   ]
  },
  {
   "cell_type": "code",
   "execution_count": 304,
   "id": "d821697d",
   "metadata": {},
   "outputs": [],
   "source": [
    "df_fraud = df_transactions[df_transactions.has_cbk == 1]\n",
    "df_not_fraud = df_transactions[df_transactions.has_cbk == 0]\n",
    "\n",
    "df_not_fraud_sample = df_not_fraud.sample(391)\n",
    "df_fraud_sample = df_fraud\n",
    "\n",
    "df_final = pd.concat([df_not_fraud_sample, df_fraud_sample])"
   ]
  },
  {
   "cell_type": "code",
   "execution_count": 305,
   "id": "4759ae0c",
   "metadata": {},
   "outputs": [],
   "source": [
    "df_final = df_final.reset_index()"
   ]
  },
  {
   "cell_type": "code",
   "execution_count": 306,
   "id": "a914ff73",
   "metadata": {},
   "outputs": [],
   "source": [
    "x = df_final.drop(['transaction_id', 'card_number', 'has_cbk', 'transaction_date', 'index'], axis = 1)"
   ]
  },
  {
   "cell_type": "code",
   "execution_count": 307,
   "id": "5a51a8ab",
   "metadata": {},
   "outputs": [],
   "source": [
    "y = df_final['has_cbk'].astype(int)"
   ]
  },
  {
   "cell_type": "code",
   "execution_count": 308,
   "id": "0d1a3640",
   "metadata": {},
   "outputs": [
    {
     "data": {
      "text/html": [
       "<div>\n",
       "<style scoped>\n",
       "    .dataframe tbody tr th:only-of-type {\n",
       "        vertical-align: middle;\n",
       "    }\n",
       "\n",
       "    .dataframe tbody tr th {\n",
       "        vertical-align: top;\n",
       "    }\n",
       "\n",
       "    .dataframe thead th {\n",
       "        text-align: right;\n",
       "    }\n",
       "</style>\n",
       "<table border=\"1\" class=\"dataframe\">\n",
       "  <thead>\n",
       "    <tr style=\"text-align: right;\">\n",
       "      <th></th>\n",
       "      <th>merchant_id</th>\n",
       "      <th>user_id</th>\n",
       "      <th>transaction_amount</th>\n",
       "      <th>device_id</th>\n",
       "      <th>bin</th>\n",
       "      <th>last_digits</th>\n",
       "      <th>day</th>\n",
       "      <th>hour</th>\n",
       "      <th>minute</th>\n",
       "    </tr>\n",
       "  </thead>\n",
       "  <tbody>\n",
       "    <tr>\n",
       "      <th>0</th>\n",
       "      <td>15227</td>\n",
       "      <td>86620</td>\n",
       "      <td>1834.23</td>\n",
       "      <td>47609.0</td>\n",
       "      <td>444456</td>\n",
       "      <td>8170</td>\n",
       "      <td>26</td>\n",
       "      <td>17</td>\n",
       "      <td>46</td>\n",
       "    </tr>\n",
       "    <tr>\n",
       "      <th>1</th>\n",
       "      <td>62052</td>\n",
       "      <td>28771</td>\n",
       "      <td>1295.76</td>\n",
       "      <td>48458.0</td>\n",
       "      <td>498442</td>\n",
       "      <td>5470</td>\n",
       "      <td>18</td>\n",
       "      <td>14</td>\n",
       "      <td>35</td>\n",
       "    </tr>\n",
       "    <tr>\n",
       "      <th>2</th>\n",
       "      <td>25671</td>\n",
       "      <td>72132</td>\n",
       "      <td>1073.22</td>\n",
       "      <td>0</td>\n",
       "      <td>516376</td>\n",
       "      <td>4270</td>\n",
       "      <td>4</td>\n",
       "      <td>17</td>\n",
       "      <td>45</td>\n",
       "    </tr>\n",
       "    <tr>\n",
       "      <th>3</th>\n",
       "      <td>22918</td>\n",
       "      <td>63646</td>\n",
       "      <td>137.47</td>\n",
       "      <td>804022.0</td>\n",
       "      <td>544731</td>\n",
       "      <td>1611</td>\n",
       "      <td>24</td>\n",
       "      <td>21</td>\n",
       "      <td>57</td>\n",
       "    </tr>\n",
       "    <tr>\n",
       "      <th>4</th>\n",
       "      <td>6112</td>\n",
       "      <td>82081</td>\n",
       "      <td>420.21</td>\n",
       "      <td>0</td>\n",
       "      <td>516292</td>\n",
       "      <td>5463</td>\n",
       "      <td>8</td>\n",
       "      <td>12</td>\n",
       "      <td>39</td>\n",
       "    </tr>\n",
       "  </tbody>\n",
       "</table>\n",
       "</div>"
      ],
      "text/plain": [
       "  merchant_id user_id  transaction_amount device_id     bin last_digits  day  \\\n",
       "0       15227   86620             1834.23   47609.0  444456        8170   26   \n",
       "1       62052   28771             1295.76   48458.0  498442        5470   18   \n",
       "2       25671   72132             1073.22         0  516376        4270    4   \n",
       "3       22918   63646              137.47  804022.0  544731        1611   24   \n",
       "4        6112   82081              420.21         0  516292        5463    8   \n",
       "\n",
       "   hour  minute  \n",
       "0    17      46  \n",
       "1    14      35  \n",
       "2    17      45  \n",
       "3    21      57  \n",
       "4    12      39  "
      ]
     },
     "execution_count": 308,
     "metadata": {},
     "output_type": "execute_result"
    }
   ],
   "source": [
    "x.head()"
   ]
  },
  {
   "cell_type": "code",
   "execution_count": 309,
   "id": "f491fab1",
   "metadata": {},
   "outputs": [],
   "source": [
    "x_train, x_test, y_train, y_test = train_test_split(x, y, test_size=0.2, random_state=100)"
   ]
  },
  {
   "cell_type": "code",
   "execution_count": 310,
   "id": "06aaea5d",
   "metadata": {
    "scrolled": true
   },
   "outputs": [
    {
     "data": {
      "text/plain": [
       "LogisticRegression()"
      ]
     },
     "execution_count": 310,
     "metadata": {},
     "output_type": "execute_result"
    }
   ],
   "source": [
    "logisticRegr = LogisticRegression()\n",
    "logisticRegr.fit(x_train, y_train)"
   ]
  },
  {
   "cell_type": "code",
   "execution_count": 311,
   "id": "d834ab04",
   "metadata": {},
   "outputs": [],
   "source": [
    "# recall, accuracy, "
   ]
  },
  {
   "cell_type": "code",
   "execution_count": 312,
   "id": "89c2319a",
   "metadata": {},
   "outputs": [],
   "source": [
    "pred = logisticRegr.predict(x_test)"
   ]
  },
  {
   "cell_type": "code",
   "execution_count": 313,
   "id": "8a02ad71",
   "metadata": {},
   "outputs": [],
   "source": [
    "acc = accuracy_score(y_test, pred)\n",
    "recall = recall_score(y_test, pred)"
   ]
  },
  {
   "cell_type": "code",
   "execution_count": 315,
   "id": "2bee24d1",
   "metadata": {},
   "outputs": [],
   "source": [
    "pickle.dump(logisticRegr, open('ml.sav', 'wb'))                             "
   ]
  },
  {
   "cell_type": "code",
   "execution_count": 318,
   "id": "72e5ee97",
   "metadata": {},
   "outputs": [],
   "source": [
    "predict_proba = logisticRegr.predict_proba(x_test)"
   ]
  },
  {
   "cell_type": "code",
   "execution_count": 319,
   "id": "e4a28350",
   "metadata": {},
   "outputs": [
    {
     "data": {
      "text/plain": [
       "array([[0.54968525, 0.45031475],\n",
       "       [0.12266636, 0.87733364],\n",
       "       [0.52673269, 0.47326731],\n",
       "       [0.60033378, 0.39966622],\n",
       "       [0.61483202, 0.38516798],\n",
       "       [0.56181247, 0.43818753],\n",
       "       [0.54961454, 0.45038546],\n",
       "       [0.35816364, 0.64183636],\n",
       "       [0.66011658, 0.33988342],\n",
       "       [0.20202205, 0.79797795],\n",
       "       [0.66157025, 0.33842975],\n",
       "       [0.67235348, 0.32764652],\n",
       "       [0.11238325, 0.88761675],\n",
       "       [0.08738919, 0.91261081],\n",
       "       [0.46330148, 0.53669852],\n",
       "       [0.47806437, 0.52193563],\n",
       "       [0.68692257, 0.31307743],\n",
       "       [0.59898547, 0.40101453],\n",
       "       [0.64016566, 0.35983434],\n",
       "       [0.69002659, 0.30997341],\n",
       "       [0.6152986 , 0.3847014 ],\n",
       "       [0.40262878, 0.59737122],\n",
       "       [0.67932252, 0.32067748],\n",
       "       [0.42157122, 0.57842878],\n",
       "       [0.1560571 , 0.8439429 ],\n",
       "       [0.37308751, 0.62691249],\n",
       "       [0.34832222, 0.65167778],\n",
       "       [0.53605928, 0.46394072],\n",
       "       [0.11683626, 0.88316374],\n",
       "       [0.66607829, 0.33392171],\n",
       "       [0.39201057, 0.60798943],\n",
       "       [0.73235263, 0.26764737],\n",
       "       [0.51550909, 0.48449091],\n",
       "       [0.64841529, 0.35158471],\n",
       "       [0.70516939, 0.29483061],\n",
       "       [0.44571177, 0.55428823],\n",
       "       [0.5359648 , 0.4640352 ],\n",
       "       [0.52805206, 0.47194794],\n",
       "       [0.68827695, 0.31172305],\n",
       "       [0.64792919, 0.35207081],\n",
       "       [0.73707861, 0.26292139],\n",
       "       [0.60504439, 0.39495561],\n",
       "       [0.4573565 , 0.5426435 ],\n",
       "       [0.1124203 , 0.8875797 ],\n",
       "       [0.46674532, 0.53325468],\n",
       "       [0.56693307, 0.43306693],\n",
       "       [0.60735835, 0.39264165],\n",
       "       [0.57211164, 0.42788836],\n",
       "       [0.74000738, 0.25999262],\n",
       "       [0.73851654, 0.26148346],\n",
       "       [0.46831162, 0.53168838],\n",
       "       [0.56476885, 0.43523115],\n",
       "       [0.26265072, 0.73734928],\n",
       "       [0.58498332, 0.41501668],\n",
       "       [0.0877116 , 0.9122884 ],\n",
       "       [0.45161276, 0.54838724],\n",
       "       [0.63845876, 0.36154124],\n",
       "       [0.60305844, 0.39694156],\n",
       "       [0.60887727, 0.39112273],\n",
       "       [0.66572338, 0.33427662],\n",
       "       [0.60184685, 0.39815315],\n",
       "       [0.25602512, 0.74397488],\n",
       "       [0.30646273, 0.69353727],\n",
       "       [0.64625576, 0.35374424],\n",
       "       [0.42550771, 0.57449229],\n",
       "       [0.63311482, 0.36688518],\n",
       "       [0.62779373, 0.37220627],\n",
       "       [0.54174418, 0.45825582],\n",
       "       [0.6201367 , 0.3798633 ],\n",
       "       [0.567641  , 0.432359  ],\n",
       "       [0.52960747, 0.47039253],\n",
       "       [0.2127065 , 0.7872935 ],\n",
       "       [0.54481871, 0.45518129],\n",
       "       [0.52545003, 0.47454997],\n",
       "       [0.2922034 , 0.7077966 ],\n",
       "       [0.23527642, 0.76472358],\n",
       "       [0.05952353, 0.94047647],\n",
       "       [0.6569396 , 0.3430604 ],\n",
       "       [0.23775616, 0.76224384],\n",
       "       [0.1898278 , 0.8101722 ],\n",
       "       [0.59454777, 0.40545223],\n",
       "       [0.68395446, 0.31604554],\n",
       "       [0.39357578, 0.60642422],\n",
       "       [0.32575014, 0.67424986],\n",
       "       [0.43267219, 0.56732781],\n",
       "       [0.71689302, 0.28310698],\n",
       "       [0.63551873, 0.36448127],\n",
       "       [0.39978283, 0.60021717],\n",
       "       [0.5314219 , 0.4685781 ],\n",
       "       [0.37338655, 0.62661345],\n",
       "       [0.70444087, 0.29555913],\n",
       "       [0.44946555, 0.55053445],\n",
       "       [0.61620502, 0.38379498],\n",
       "       [0.52852201, 0.47147799],\n",
       "       [0.6946167 , 0.3053833 ],\n",
       "       [0.14213699, 0.85786301],\n",
       "       [0.350216  , 0.649784  ],\n",
       "       [0.62568159, 0.37431841],\n",
       "       [0.65079353, 0.34920647],\n",
       "       [0.62477954, 0.37522046],\n",
       "       [0.76230647, 0.23769353],\n",
       "       [0.56996453, 0.43003547],\n",
       "       [0.46609016, 0.53390984],\n",
       "       [0.7276445 , 0.2723555 ],\n",
       "       [0.67632142, 0.32367858],\n",
       "       [0.53542082, 0.46457918],\n",
       "       [0.66588797, 0.33411203],\n",
       "       [0.75071676, 0.24928324],\n",
       "       [0.69715441, 0.30284559],\n",
       "       [0.64703051, 0.35296949],\n",
       "       [0.49515195, 0.50484805],\n",
       "       [0.62942842, 0.37057158],\n",
       "       [0.52523138, 0.47476862],\n",
       "       [0.60707819, 0.39292181],\n",
       "       [0.33312513, 0.66687487],\n",
       "       [0.20528556, 0.79471444],\n",
       "       [0.40872415, 0.59127585],\n",
       "       [0.08101222, 0.91898778],\n",
       "       [0.60866513, 0.39133487],\n",
       "       [0.20843872, 0.79156128],\n",
       "       [0.66751999, 0.33248001],\n",
       "       [0.55784019, 0.44215981],\n",
       "       [0.49857523, 0.50142477],\n",
       "       [0.09477004, 0.90522996],\n",
       "       [0.35494628, 0.64505372],\n",
       "       [0.46435357, 0.53564643],\n",
       "       [0.16204412, 0.83795588],\n",
       "       [0.10654784, 0.89345216],\n",
       "       [0.09877226, 0.90122774],\n",
       "       [0.45360334, 0.54639666],\n",
       "       [0.56937036, 0.43062964],\n",
       "       [0.26017212, 0.73982788],\n",
       "       [0.297255  , 0.702745  ],\n",
       "       [0.74146275, 0.25853725],\n",
       "       [0.58496526, 0.41503474],\n",
       "       [0.77258598, 0.22741402],\n",
       "       [0.23248545, 0.76751455],\n",
       "       [0.75814424, 0.24185576],\n",
       "       [0.6465665 , 0.3534335 ],\n",
       "       [0.59376192, 0.40623808],\n",
       "       [0.37870237, 0.62129763],\n",
       "       [0.68606185, 0.31393815],\n",
       "       [0.55593872, 0.44406128],\n",
       "       [0.51135446, 0.48864554],\n",
       "       [0.59445346, 0.40554654],\n",
       "       [0.57244115, 0.42755885],\n",
       "       [0.691758  , 0.308242  ],\n",
       "       [0.73725631, 0.26274369],\n",
       "       [0.28532747, 0.71467253],\n",
       "       [0.70625248, 0.29374752],\n",
       "       [0.70359638, 0.29640362],\n",
       "       [0.27008694, 0.72991306],\n",
       "       [0.49120181, 0.50879819],\n",
       "       [0.62280414, 0.37719586],\n",
       "       [0.6304844 , 0.3695156 ],\n",
       "       [0.70676848, 0.29323152],\n",
       "       [0.50711999, 0.49288001]])"
      ]
     },
     "execution_count": 319,
     "metadata": {},
     "output_type": "execute_result"
    }
   ],
   "source": [
    "predict_proba"
   ]
  },
  {
   "cell_type": "code",
   "execution_count": 320,
   "id": "c9879ecf",
   "metadata": {},
   "outputs": [
    {
     "data": {
      "text/plain": [
       "merchant_id            object\n",
       "user_id                object\n",
       "transaction_amount    float64\n",
       "device_id              object\n",
       "bin                    object\n",
       "last_digits            object\n",
       "day                     int64\n",
       "hour                    int64\n",
       "minute                  int64\n",
       "dtype: object"
      ]
     },
     "execution_count": 320,
     "metadata": {},
     "output_type": "execute_result"
    }
   ],
   "source": [
    "x_train.dtypes"
   ]
  }
 ],
 "metadata": {
  "kernelspec": {
   "display_name": "Python 3 (ipykernel)",
   "language": "python",
   "name": "python3"
  },
  "language_info": {
   "codemirror_mode": {
    "name": "ipython",
    "version": 3
   },
   "file_extension": ".py",
   "mimetype": "text/x-python",
   "name": "python",
   "nbconvert_exporter": "python",
   "pygments_lexer": "ipython3",
   "version": "3.9.12"
  }
 },
 "nbformat": 4,
 "nbformat_minor": 5
}
