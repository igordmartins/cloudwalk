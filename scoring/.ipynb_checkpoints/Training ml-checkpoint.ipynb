{
 "cells": [
  {
   "cell_type": "code",
   "execution_count": 2,
   "id": "820199cb",
   "metadata": {},
   "outputs": [
    {
     "name": "stdout",
     "output_type": "stream",
     "text": [
      "Hello World!\n"
     ]
    }
   ],
   "source": [
    "print(\"Hello World!\")"
   ]
  },
  {
   "cell_type": "code",
   "execution_count": 5,
   "id": "f4a1d641",
   "metadata": {},
   "outputs": [],
   "source": [
    "import pandas as pd\n",
    "import numpy as np\n",
    "from sklearn.model_selection import  train_test_split\n",
    "from sklearn.linear_model import LogisticRegression\n",
    "from sklearn.metrics import accuracy_score, mean_squared_error, r2_score\n"
   ]
  },
  {
   "cell_type": "code",
   "execution_count": 9,
   "id": "73b1c7eb",
   "metadata": {},
   "outputs": [],
   "source": [
    "df_transactions = pd.read_csv('transactional-sample.csv')"
   ]
  },
  {
   "cell_type": "code",
   "execution_count": 14,
   "id": "734a96ff",
   "metadata": {},
   "outputs": [],
   "source": [
    "df_transactions['bin'] = df_transactions['card_number'].astype(str).str[0:6]\n"
   ]
  },
  {
   "cell_type": "code",
   "execution_count": 20,
   "id": "c13f003b",
   "metadata": {},
   "outputs": [],
   "source": [
    "df_transactions['last_digits'] = df_transactions['card_number'].astype(str).str[12:]"
   ]
  },
  {
   "cell_type": "code",
   "execution_count": 31,
   "id": "d7669729",
   "metadata": {},
   "outputs": [
    {
     "data": {
      "text/html": [
       "<div>\n",
       "<style scoped>\n",
       "    .dataframe tbody tr th:only-of-type {\n",
       "        vertical-align: middle;\n",
       "    }\n",
       "\n",
       "    .dataframe tbody tr th {\n",
       "        vertical-align: top;\n",
       "    }\n",
       "\n",
       "    .dataframe thead th {\n",
       "        text-align: right;\n",
       "    }\n",
       "</style>\n",
       "<table border=\"1\" class=\"dataframe\">\n",
       "  <thead>\n",
       "    <tr style=\"text-align: right;\">\n",
       "      <th></th>\n",
       "      <th>transaction_id</th>\n",
       "      <th>merchant_id</th>\n",
       "      <th>user_id</th>\n",
       "      <th>card_number</th>\n",
       "      <th>transaction_date</th>\n",
       "      <th>transaction_amount</th>\n",
       "      <th>device_id</th>\n",
       "      <th>has_cbk</th>\n",
       "      <th>bin</th>\n",
       "      <th>last_digits</th>\n",
       "    </tr>\n",
       "  </thead>\n",
       "  <tbody>\n",
       "    <tr>\n",
       "      <th>0</th>\n",
       "      <td>21320398</td>\n",
       "      <td>29744</td>\n",
       "      <td>97051</td>\n",
       "      <td>434505******9116</td>\n",
       "      <td>2019-12-01 23:16:32.812632</td>\n",
       "      <td>374.56</td>\n",
       "      <td>285475.0</td>\n",
       "      <td>False</td>\n",
       "      <td>434505</td>\n",
       "      <td>9116</td>\n",
       "    </tr>\n",
       "    <tr>\n",
       "      <th>1</th>\n",
       "      <td>21320399</td>\n",
       "      <td>92895</td>\n",
       "      <td>2708</td>\n",
       "      <td>444456******4210</td>\n",
       "      <td>2019-12-01 22:45:37.873639</td>\n",
       "      <td>734.87</td>\n",
       "      <td>497105.0</td>\n",
       "      <td>True</td>\n",
       "      <td>444456</td>\n",
       "      <td>4210</td>\n",
       "    </tr>\n",
       "    <tr>\n",
       "      <th>2</th>\n",
       "      <td>21320400</td>\n",
       "      <td>47759</td>\n",
       "      <td>14777</td>\n",
       "      <td>425850******7024</td>\n",
       "      <td>2019-12-01 22:22:43.021495</td>\n",
       "      <td>760.36</td>\n",
       "      <td>nan</td>\n",
       "      <td>False</td>\n",
       "      <td>425850</td>\n",
       "      <td>7024</td>\n",
       "    </tr>\n",
       "    <tr>\n",
       "      <th>3</th>\n",
       "      <td>21320401</td>\n",
       "      <td>68657</td>\n",
       "      <td>69758</td>\n",
       "      <td>464296******3991</td>\n",
       "      <td>2019-12-01 21:59:19.797129</td>\n",
       "      <td>2556.13</td>\n",
       "      <td>nan</td>\n",
       "      <td>True</td>\n",
       "      <td>464296</td>\n",
       "      <td>3991</td>\n",
       "    </tr>\n",
       "    <tr>\n",
       "      <th>4</th>\n",
       "      <td>21320402</td>\n",
       "      <td>54075</td>\n",
       "      <td>64367</td>\n",
       "      <td>650487******6116</td>\n",
       "      <td>2019-12-01 21:30:53.347051</td>\n",
       "      <td>55.36</td>\n",
       "      <td>860232.0</td>\n",
       "      <td>False</td>\n",
       "      <td>650487</td>\n",
       "      <td>6116</td>\n",
       "    </tr>\n",
       "  </tbody>\n",
       "</table>\n",
       "</div>"
      ],
      "text/plain": [
       "  transaction_id merchant_id user_id       card_number  \\\n",
       "0       21320398       29744   97051  434505******9116   \n",
       "1       21320399       92895    2708  444456******4210   \n",
       "2       21320400       47759   14777  425850******7024   \n",
       "3       21320401       68657   69758  464296******3991   \n",
       "4       21320402       54075   64367  650487******6116   \n",
       "\n",
       "            transaction_date  transaction_amount device_id  has_cbk     bin  \\\n",
       "0 2019-12-01 23:16:32.812632              374.56  285475.0    False  434505   \n",
       "1 2019-12-01 22:45:37.873639              734.87  497105.0     True  444456   \n",
       "2 2019-12-01 22:22:43.021495              760.36       nan    False  425850   \n",
       "3 2019-12-01 21:59:19.797129             2556.13       nan     True  464296   \n",
       "4 2019-12-01 21:30:53.347051               55.36  860232.0    False  650487   \n",
       "\n",
       "  last_digits  \n",
       "0        9116  \n",
       "1        4210  \n",
       "2        7024  \n",
       "3        3991  \n",
       "4        6116  "
      ]
     },
     "execution_count": 31,
     "metadata": {},
     "output_type": "execute_result"
    }
   ],
   "source": [
    "df_transactions.head()"
   ]
  },
  {
   "cell_type": "code",
   "execution_count": 22,
   "id": "379849ff",
   "metadata": {},
   "outputs": [],
   "source": [
    "df_transactions['user_id'] = df_transactions['user_id'].astype(str)\n",
    "df_transactions['merchant_id'] = df_transactions['merchant_id'].astype(str)\n",
    "df_transactions['transaction_id'] = df_transactions['transaction_id'].astype(str)\n",
    "df_transactions['device_id'] = df_transactions['device_id'].astype(str)"
   ]
  },
  {
   "cell_type": "code",
   "execution_count": 49,
   "id": "03565e53",
   "metadata": {},
   "outputs": [
    {
     "data": {
      "text/plain": [
       "count     391.000000\n",
       "mean     1453.571918\n",
       "std      1169.491346\n",
       "min         2.890000\n",
       "25%       565.580000\n",
       "50%       999.470000\n",
       "75%      2140.680000\n",
       "max      4097.210000\n",
       "Name: transaction_amount, dtype: float64"
      ]
     },
     "execution_count": 49,
     "metadata": {},
     "output_type": "execute_result"
    }
   ],
   "source": [
    "df_fraud = df_transactions.transaction_amount[df_transactions.has_cbk == True]\n",
    "df_not_fraud = df_transactions.transaction_amount[df_transactions.has_cbk == False]\n",
    "\n",
    "df_fraud.describe()"
   ]
  },
  {
   "cell_type": "code",
   "execution_count": 51,
   "id": "d1d777ef",
   "metadata": {},
   "outputs": [
    {
     "data": {
      "text/plain": [
       "count    2808.000000\n",
       "mean      672.324380\n",
       "std       797.463853\n",
       "min         1.220000\n",
       "25%       191.285000\n",
       "50%       360.315000\n",
       "75%       812.577500\n",
       "max      4091.830000\n",
       "Name: transaction_amount, dtype: float64"
      ]
     },
     "execution_count": 51,
     "metadata": {},
     "output_type": "execute_result"
    }
   ],
   "source": [
    "df_not_fraud.describe()"
   ]
  },
  {
   "cell_type": "code",
   "execution_count": 53,
   "id": "8990028d",
   "metadata": {},
   "outputs": [
    {
     "data": {
      "text/plain": [
       "False    2808\n",
       "True      391\n",
       "Name: has_cbk, dtype: int64"
      ]
     },
     "execution_count": 53,
     "metadata": {},
     "output_type": "execute_result"
    }
   ],
   "source": [
    "df_transactions.has_cbk.value_counts()"
   ]
  },
  {
   "cell_type": "code",
   "execution_count": null,
   "id": "72e5ee97",
   "metadata": {},
   "outputs": [],
   "source": []
  }
 ],
 "metadata": {
  "kernelspec": {
   "display_name": "Python 3 (ipykernel)",
   "language": "python",
   "name": "python3"
  },
  "language_info": {
   "codemirror_mode": {
    "name": "ipython",
    "version": 3
   },
   "file_extension": ".py",
   "mimetype": "text/x-python",
   "name": "python",
   "nbconvert_exporter": "python",
   "pygments_lexer": "ipython3",
   "version": "3.9.12"
  }
 },
 "nbformat": 4,
 "nbformat_minor": 5
}
